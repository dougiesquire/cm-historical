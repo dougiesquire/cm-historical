{
 "cells": [
  {
   "cell_type": "markdown",
   "id": "96ec7344-a3da-49c8-a8a1-8f43744c9b34",
   "metadata": {},
   "source": [
    "# Exploring the forcing used for the f6 forecast and c5 control runs\n",
    "Note that the longnames of the f6 forecasts follow c5-d60-pX-f6-INIT (where INIT is the initialisation date) indicating that c5 is the relevant control run for these forecasts.\n",
    "\n",
    "All (resonable sized) files used in this notebook are copied in the /resources directory in this repo."
   ]
  },
  {
   "cell_type": "code",
   "execution_count": 5,
   "id": "237aa774-a5b7-4f9e-85b3-26a58f934ccf",
   "metadata": {},
   "outputs": [],
   "source": [
    "import xarray as xr"
   ]
  },
  {
   "cell_type": "markdown",
   "id": "c146d8c9-8a03-4112-996c-40bf6410d8da",
   "metadata": {},
   "source": [
    "# Control run 5"
   ]
  },
  {
   "cell_type": "markdown",
   "id": "8974e9e4-939b-4b61-a975-1a463e97fca8",
   "metadata": {},
   "source": [
    "Matt Chamberlain's readme (`/resources/g.data.v19.mtc599.ao_am2.readme.txt`) identifies his run /aug18a as c5:\n",
    "\n",
    "   > aug18a/ \\\n",
    "(control-5 => control-4 with deep restoring)\n",
    "clone of the control may18b/ but with deep restoring.\n",
    "Hiccup with CFC fixed at start of year 0244; CFC tracer field had been reset at year 0200, however the atmospheric boundary condition was not set to the century 0200 to 0299.\n",
    "At 0244, reset tracer fields to zero and fix boundary condition.\n",
    "(Control 5)\n",
    "\n",
    "We can get an idea for how this control run was forced by looking at select lines in the namelist (`/resources/g.data.v19.mtc599.ao_am2.aug18a.input.nml`):"
   ]
  },
  {
   "cell_type": "raw",
   "id": "6dcc2892-63b9-45ce-92ef-4210dc280ad1",
   "metadata": {},
   "source": [
    " &aerosol_nml\n",
    "    use_aerosol_timeseries = .false.\n",
    "    aerosol_dataset_entry =  1990, 1, 1, 0, 0, 0,\n",
    "                             1990, 1, 1, 0, 0, 0,\n",
    "                             1990, 1, 1, 0, 0, 0,\n",
    "                             1990, 1, 1, 0, 0, 0,\n",
    "                             1990, 1, 1, 0, 0, 0,\n",
    "                             1990, 1, 1, 0, 0, 0,\n",
    "                             1990, 1, 1, 0, 0, 0,\n",
    "                             1990, 1, 1, 0, 0, 0,\n",
    "                             1990, 1, 1, 0, 0, 0,\n",
    "                             1990, 1, 1, 0, 0, 0,\n",
    "                             1990, 1, 1, 0, 0, 0,\n",
    "                             1990, 1, 1, 0, 0, 0,\n",
    "                             1990, 1, 1, 0, 0, 0,\n",
    "                             1990, 1, 1, 0, 0, 0,\n",
    "                             1990, 1, 1, 0, 0, 0,\n",
    "                             1990, 1, 1, 0, 0, 0,\n",
    "                             1990, 1, 1, 0, 0, 0,\n",
    "                             1990, 1, 1, 0, 0, 0,\n",
    "                             1990, 1, 1, 0, 0, 0,\n",
    "                             1990, 1, 1, 0, 0, 0,\n",
    "                             1990, 1, 1, 0, 0, 0,\n",
    "    family_names = \"small_dust\", \"large_dust\", \"sulfate\", \"aerosol\"\n",
    "    in_family1 = F,F,F,F,F,T,T,T,T,T,F,F,F,T,T,T,T,T,F,F,F,\n",
    "    in_family2 = F,F,F,F,F,F,F,F,F,F,T,T,T,F,F,F,F,F,T,T,T,\n",
    "    in_family3 = T,T,F,F,F,F,F,F,F,F,F,F,F,F,F,F,F,F,F,F,F,\n",
    "    in_family4 = T,T,T,T,T,T,T,T,T,T,T,T,T,T,T,T,T,T,T,T,T,\n",
    "    data_names = \"so4_anthro\", \"so4_natural\", \"organic_carbon\", \"black_carbon\", \"sea_salt\",\n",
    "                 \"anthro_dust_0.1\", \"anthro_dust_0.2\", \"anthro_dust_0.4\", \"anthro_dust_0.8\",\n",
    "                 \"anthro_dust_1.0\", \"anthro_dust_2.0\", \"anthro_dust_4.0\", \"anthro_dust_8.0\",\n",
    "                 \"natural_dust_0.1\", \"natural_dust_0.2\", \"natural_dust_0.4\", \"natural_dust_0.8\",\n",
    "                 \"natural_dust_1.0\", \"natural_dust_2.0\", \"natural_dust_4.0\", \"natural_dust_8.0\",\n",
    "    filename = \"aerosol.climatology.nc\"\n",
    "/\n",
    " &aerosolrad_package_nml\n",
    "    volcanic_dataset_entry = 1, 1, 1, 0, 0, 0,\n",
    "    using_volcanic_lw_files = .false.,\n",
    "    lw_ext_filename = \"             \"\n",
    "    lw_ext_root = \"     \"\n",
    "    lw_asy_filename = \"             \"\n",
    "    lw_asy_root = \"     \"\n",
    "    lw_ssa_filename = \"             \"\n",
    "    lw_ssa_root = \"     \"\n",
    "    using_volcanic_sw_files = .false.,\n",
    "    sw_ext_filename = \"             \"\n",
    "    sw_ext_root = \"     \"\n",
    "    sw_ssa_filename = \"             \"\n",
    "    sw_ssa_root = \"     \"\n",
    "    sw_asy_filename = \"             \"\n",
    "    sw_asy_root = \"     \"\n",
    "    do_lwaerosol = .true.,\n",
    "    do_swaerosol = .true.,\n",
    "    aerosol_data_set = 'shettle_fenn',\n",
    "    optical_filename = \"aerosol.optical.dat\",\n",
    "    aerosol_optical_names = \"sulfate_30%\", \"sulfate_35%\", \"sulfate_40%\", \"sulfate_45%\",\n",
    "                            \"sulfate_50%\", \"sulfate_55%\", \"sulfate_60%\", \"sulfate_65%\",\n",
    "                            \"sulfate_70%\", \"sulfate_75%\", \"sulfate_80%\", \"sulfate_82%\",\n",
    "                            \"sulfate_84%\", \"sulfate_86%\", \"sulfate_88%\", \"sulfate_90%\",\n",
    "                            \"sulfate_91%\", \"sulfate_92%\", \"sulfate_93%\", \"sulfate_94%\",\n",
    "                            \"sulfate_95%\", \"sulfate_96%\", \"sulfate_97%\", \"sulfate_98%\",\n",
    "                            \"sulfate_99%\", \"sulfate_100%\",\"organic_carbon\",\"soot\",\n",
    "                            \"sea_salt\",    \"dust_0.1\",    \"dust_0.2\",    \"dust_0.4\",\n",
    "                            \"dust_0.8\",    \"dust_1.0\",    \"dust_2.0\",    \"dust_4.0\",\n",
    "                            \"dust_8.0\"\n",
    "\n",
    "...\n",
    "\n",
    " &ozone_nml\n",
    "       basic_ozone_type = 'fixed_year' ,\n",
    "       ozone_dataset_entry = 1990, 1, 1, 0, 0, 0,\n",
    "       data_name = \"ozone\",\n",
    "       filename = \"o3.climatology.nc\"\n",
    "\n",
    "...\n",
    "\n",
    " &radiation_driver_nml\n",
    "       rad_time_step= 10800,\n",
    "       time_varying_solar_constant = .false.,\n",
    "       solar_dataset_entry = 1990,1,1,0,0,0,\n",
    "       rad_package = 'sea_esf',\n",
    "       do_clear_sky_pass=.true.,\n",
    "       calc_hemi_integrals = .false.,\n",
    "       renormalize_sw_fluxes=.true.,\n",
    "       all_step_diagnostics = .true.,\n",
    "       zenith_spec = 'diurnally_varying'\n",
    "       using_restart_file = .false.\n",
    "/\n",
    " &radiative_gases_nml\n",
    "       verbose = 3\n",
    "       gas_printout_freq = 240\n",
    "       time_varying_co2 = .false.,\n",
    "       co2_variation_type = 'linear',\n",
    "       co2_dataset_entry = 1990,1,1,0,0,0,\n",
    "       co2_specification_type = 'time_series',\n",
    "       co2_floor = 100.0E-06,\n",
    "       co2_ceiling = 1600.0E-06,\n",
    "       co2_data_source = 'input'\n",
    "       time_varying_ch4 = .false.,\n",
    "       ch4_variation_type = 'linear'\n",
    "       ch4_dataset_entry = 1990, 1, 1, 0, 0, 0,\n",
    "       ch4_specification_type = 'time_series'\n",
    "       ch4_data_source = 'input'\n",
    "       time_varying_n2o = .false.,\n",
    "       n2o_variation_type = 'linear'\n",
    "       n2o_dataset_entry = 1990, 1, 1, 0, 0, 0,\n",
    "       n2o_specification_type = 'time_series'\n",
    "       n2o_data_source = 'input'\n",
    "       time_varying_f11 = .false.,\n",
    "       f11_variation_type = 'linear'\n",
    "       f11_dataset_entry = 1990, 1, 1, 0, 0, 0,\n",
    "       f11_specification_type = 'time_series'\n",
    "       f11_data_source = 'input'\n",
    "       time_varying_f12 = .false.,\n",
    "       f12_variation_type = 'linear'\n",
    "       f12_dataset_entry = 1990, 1, 1, 0, 0, 0,\n",
    "       f12_specification_type = 'time_series'\n",
    "       f12_data_source = 'input'\n",
    "       time_varying_f113 = .false.,\n",
    "       f113_variation_type = 'linear'\n",
    "       f113_dataset_entry = 1990, 1, 1, 0, 0, 0,\n",
    "       f113_specification_type = 'time_series'\n",
    "       f113_data_source = 'input'\n",
    "       time_varying_f22 = .false.,\n",
    "       f22_variation_type = 'linear'\n",
    "       f22_dataset_entry = 1990, 1, 1, 0, 0, 0,\n",
    "       f22_specification_type = 'time_series'\n",
    "       f22_data_source = 'input'"
   ]
  },
  {
   "cell_type": "markdown",
   "id": "9dfff9b5-e185-4de9-b36b-eb07680334dd",
   "metadata": {},
   "source": [
    "That is, 1990 forcing is used for a variety of aerosol, ozone, solar, and radiative gas forcings. No volcanic forcing is applied"
   ]
  },
  {
   "cell_type": "markdown",
   "id": "d48ca0f5-258c-4233-a570-7a5c81965152",
   "metadata": {},
   "source": [
    "### What do these forcing files look like?"
   ]
  },
  {
   "cell_type": "code",
   "execution_count": 6,
   "id": "406ad522-a713-44f0-8753-190088eb9bf4",
   "metadata": {},
   "outputs": [
    {
     "ename": "FileNotFoundError",
     "evalue": "[Errno 2] No such file or directory: '/g/data/v19/mtc599/ao_am2/aug18a/INPUT/aerosol.climatology.nc'",
     "output_type": "error",
     "traceback": [
      "\u001b[0;31m---------------------------------------------------------------------------\u001b[0m",
      "\u001b[0;31mKeyError\u001b[0m                                  Traceback (most recent call last)",
      "\u001b[0;32m/g/data/v14/ds0092/software/miniconda3/envs/pangeo/lib/python3.9/site-packages/xarray/backends/file_manager.py\u001b[0m in \u001b[0;36m_acquire_with_cache_info\u001b[0;34m(self, needs_lock)\u001b[0m\n\u001b[1;32m    198\u001b[0m             \u001b[0;32mtry\u001b[0m\u001b[0;34m:\u001b[0m\u001b[0;34m\u001b[0m\u001b[0;34m\u001b[0m\u001b[0m\n\u001b[0;32m--> 199\u001b[0;31m                 \u001b[0mfile\u001b[0m \u001b[0;34m=\u001b[0m \u001b[0mself\u001b[0m\u001b[0;34m.\u001b[0m\u001b[0m_cache\u001b[0m\u001b[0;34m[\u001b[0m\u001b[0mself\u001b[0m\u001b[0;34m.\u001b[0m\u001b[0m_key\u001b[0m\u001b[0;34m]\u001b[0m\u001b[0;34m\u001b[0m\u001b[0;34m\u001b[0m\u001b[0m\n\u001b[0m\u001b[1;32m    200\u001b[0m             \u001b[0;32mexcept\u001b[0m \u001b[0mKeyError\u001b[0m\u001b[0;34m:\u001b[0m\u001b[0;34m\u001b[0m\u001b[0;34m\u001b[0m\u001b[0m\n",
      "\u001b[0;32m/g/data/v14/ds0092/software/miniconda3/envs/pangeo/lib/python3.9/site-packages/xarray/backends/lru_cache.py\u001b[0m in \u001b[0;36m__getitem__\u001b[0;34m(self, key)\u001b[0m\n\u001b[1;32m     52\u001b[0m         \u001b[0;32mwith\u001b[0m \u001b[0mself\u001b[0m\u001b[0;34m.\u001b[0m\u001b[0m_lock\u001b[0m\u001b[0;34m:\u001b[0m\u001b[0;34m\u001b[0m\u001b[0;34m\u001b[0m\u001b[0m\n\u001b[0;32m---> 53\u001b[0;31m             \u001b[0mvalue\u001b[0m \u001b[0;34m=\u001b[0m \u001b[0mself\u001b[0m\u001b[0;34m.\u001b[0m\u001b[0m_cache\u001b[0m\u001b[0;34m[\u001b[0m\u001b[0mkey\u001b[0m\u001b[0;34m]\u001b[0m\u001b[0;34m\u001b[0m\u001b[0;34m\u001b[0m\u001b[0m\n\u001b[0m\u001b[1;32m     54\u001b[0m             \u001b[0mself\u001b[0m\u001b[0;34m.\u001b[0m\u001b[0m_cache\u001b[0m\u001b[0;34m.\u001b[0m\u001b[0mmove_to_end\u001b[0m\u001b[0;34m(\u001b[0m\u001b[0mkey\u001b[0m\u001b[0;34m)\u001b[0m\u001b[0;34m\u001b[0m\u001b[0;34m\u001b[0m\u001b[0m\n",
      "\u001b[0;31mKeyError\u001b[0m: [<function _open_scipy_netcdf at 0x1481997f89d0>, ('/g/data/v19/mtc599/ao_am2/aug18a/INPUT/aerosol.climatology.nc',), 'r', (('mmap', None), ('version', 2))]",
      "\nDuring handling of the above exception, another exception occurred:\n",
      "\u001b[0;31mFileNotFoundError\u001b[0m                         Traceback (most recent call last)",
      "\u001b[0;32m<ipython-input-6-bc2ac81ae533>\u001b[0m in \u001b[0;36m<module>\u001b[0;34m\u001b[0m\n\u001b[1;32m      1\u001b[0m \u001b[0mpath\u001b[0m \u001b[0;34m=\u001b[0m \u001b[0;34m'/g/data/v19/mtc599/ao_am2/aug18a/INPUT/'\u001b[0m\u001b[0;34m\u001b[0m\u001b[0;34m\u001b[0m\u001b[0m\n\u001b[0;32m----> 2\u001b[0;31m \u001b[0mf\u001b[0m \u001b[0;34m=\u001b[0m \u001b[0mxr\u001b[0m\u001b[0;34m.\u001b[0m\u001b[0mopen_dataset\u001b[0m\u001b[0;34m(\u001b[0m\u001b[0;34mf'{path}aerosol.climatology.nc'\u001b[0m\u001b[0;34m)\u001b[0m\u001b[0;34m\u001b[0m\u001b[0;34m\u001b[0m\u001b[0m\n\u001b[0m",
      "\u001b[0;32m/g/data/v14/ds0092/software/miniconda3/envs/pangeo/lib/python3.9/site-packages/xarray/backends/api.py\u001b[0m in \u001b[0;36mopen_dataset\u001b[0;34m(filename_or_obj, engine, chunks, cache, decode_cf, mask_and_scale, decode_times, decode_timedelta, use_cftime, concat_characters, decode_coords, drop_variables, backend_kwargs, *args, **kwargs)\u001b[0m\n\u001b[1;32m    494\u001b[0m \u001b[0;34m\u001b[0m\u001b[0m\n\u001b[1;32m    495\u001b[0m     \u001b[0moverwrite_encoded_chunks\u001b[0m \u001b[0;34m=\u001b[0m \u001b[0mkwargs\u001b[0m\u001b[0;34m.\u001b[0m\u001b[0mpop\u001b[0m\u001b[0;34m(\u001b[0m\u001b[0;34m\"overwrite_encoded_chunks\"\u001b[0m\u001b[0;34m,\u001b[0m \u001b[0;32mNone\u001b[0m\u001b[0;34m)\u001b[0m\u001b[0;34m\u001b[0m\u001b[0;34m\u001b[0m\u001b[0m\n\u001b[0;32m--> 496\u001b[0;31m     backend_ds = backend.open_dataset(\n\u001b[0m\u001b[1;32m    497\u001b[0m         \u001b[0mfilename_or_obj\u001b[0m\u001b[0;34m,\u001b[0m\u001b[0;34m\u001b[0m\u001b[0;34m\u001b[0m\u001b[0m\n\u001b[1;32m    498\u001b[0m         \u001b[0mdrop_variables\u001b[0m\u001b[0;34m=\u001b[0m\u001b[0mdrop_variables\u001b[0m\u001b[0;34m,\u001b[0m\u001b[0;34m\u001b[0m\u001b[0;34m\u001b[0m\u001b[0m\n",
      "\u001b[0;32m/g/data/v14/ds0092/software/miniconda3/envs/pangeo/lib/python3.9/site-packages/xarray/backends/scipy_.py\u001b[0m in \u001b[0;36mopen_dataset\u001b[0;34m(self, filename_or_obj, mask_and_scale, decode_times, concat_characters, decode_coords, drop_variables, use_cftime, decode_timedelta, mode, format, group, mmap, lock)\u001b[0m\n\u001b[1;32m    278\u001b[0m         \u001b[0mstore_entrypoint\u001b[0m \u001b[0;34m=\u001b[0m \u001b[0mStoreBackendEntrypoint\u001b[0m\u001b[0;34m(\u001b[0m\u001b[0;34m)\u001b[0m\u001b[0;34m\u001b[0m\u001b[0;34m\u001b[0m\u001b[0m\n\u001b[1;32m    279\u001b[0m         \u001b[0;32mwith\u001b[0m \u001b[0mclose_on_error\u001b[0m\u001b[0;34m(\u001b[0m\u001b[0mstore\u001b[0m\u001b[0;34m)\u001b[0m\u001b[0;34m:\u001b[0m\u001b[0;34m\u001b[0m\u001b[0;34m\u001b[0m\u001b[0m\n\u001b[0;32m--> 280\u001b[0;31m             ds = store_entrypoint.open_dataset(\n\u001b[0m\u001b[1;32m    281\u001b[0m                 \u001b[0mstore\u001b[0m\u001b[0;34m,\u001b[0m\u001b[0;34m\u001b[0m\u001b[0;34m\u001b[0m\u001b[0m\n\u001b[1;32m    282\u001b[0m                 \u001b[0mmask_and_scale\u001b[0m\u001b[0;34m=\u001b[0m\u001b[0mmask_and_scale\u001b[0m\u001b[0;34m,\u001b[0m\u001b[0;34m\u001b[0m\u001b[0;34m\u001b[0m\u001b[0m\n",
      "\u001b[0;32m/g/data/v14/ds0092/software/miniconda3/envs/pangeo/lib/python3.9/site-packages/xarray/backends/store.py\u001b[0m in \u001b[0;36mopen_dataset\u001b[0;34m(self, store, mask_and_scale, decode_times, concat_characters, decode_coords, drop_variables, use_cftime, decode_timedelta)\u001b[0m\n\u001b[1;32m     20\u001b[0m         \u001b[0mdecode_timedelta\u001b[0m\u001b[0;34m=\u001b[0m\u001b[0;32mNone\u001b[0m\u001b[0;34m,\u001b[0m\u001b[0;34m\u001b[0m\u001b[0;34m\u001b[0m\u001b[0m\n\u001b[1;32m     21\u001b[0m     ):\n\u001b[0;32m---> 22\u001b[0;31m         \u001b[0mvars\u001b[0m\u001b[0;34m,\u001b[0m \u001b[0mattrs\u001b[0m \u001b[0;34m=\u001b[0m \u001b[0mstore\u001b[0m\u001b[0;34m.\u001b[0m\u001b[0mload\u001b[0m\u001b[0;34m(\u001b[0m\u001b[0;34m)\u001b[0m\u001b[0;34m\u001b[0m\u001b[0;34m\u001b[0m\u001b[0m\n\u001b[0m\u001b[1;32m     23\u001b[0m         \u001b[0mencoding\u001b[0m \u001b[0;34m=\u001b[0m \u001b[0mstore\u001b[0m\u001b[0;34m.\u001b[0m\u001b[0mget_encoding\u001b[0m\u001b[0;34m(\u001b[0m\u001b[0;34m)\u001b[0m\u001b[0;34m\u001b[0m\u001b[0;34m\u001b[0m\u001b[0m\n\u001b[1;32m     24\u001b[0m \u001b[0;34m\u001b[0m\u001b[0m\n",
      "\u001b[0;32m/g/data/v14/ds0092/software/miniconda3/envs/pangeo/lib/python3.9/site-packages/xarray/backends/common.py\u001b[0m in \u001b[0;36mload\u001b[0;34m(self)\u001b[0m\n\u001b[1;32m    122\u001b[0m         \"\"\"\n\u001b[1;32m    123\u001b[0m         variables = FrozenDict(\n\u001b[0;32m--> 124\u001b[0;31m             \u001b[0;34m(\u001b[0m\u001b[0m_decode_variable_name\u001b[0m\u001b[0;34m(\u001b[0m\u001b[0mk\u001b[0m\u001b[0;34m)\u001b[0m\u001b[0;34m,\u001b[0m \u001b[0mv\u001b[0m\u001b[0;34m)\u001b[0m \u001b[0;32mfor\u001b[0m \u001b[0mk\u001b[0m\u001b[0;34m,\u001b[0m \u001b[0mv\u001b[0m \u001b[0;32min\u001b[0m \u001b[0mself\u001b[0m\u001b[0;34m.\u001b[0m\u001b[0mget_variables\u001b[0m\u001b[0;34m(\u001b[0m\u001b[0;34m)\u001b[0m\u001b[0;34m.\u001b[0m\u001b[0mitems\u001b[0m\u001b[0;34m(\u001b[0m\u001b[0;34m)\u001b[0m\u001b[0;34m\u001b[0m\u001b[0;34m\u001b[0m\u001b[0m\n\u001b[0m\u001b[1;32m    125\u001b[0m         )\n\u001b[1;32m    126\u001b[0m         \u001b[0mattributes\u001b[0m \u001b[0;34m=\u001b[0m \u001b[0mFrozenDict\u001b[0m\u001b[0;34m(\u001b[0m\u001b[0mself\u001b[0m\u001b[0;34m.\u001b[0m\u001b[0mget_attrs\u001b[0m\u001b[0;34m(\u001b[0m\u001b[0;34m)\u001b[0m\u001b[0;34m)\u001b[0m\u001b[0;34m\u001b[0m\u001b[0;34m\u001b[0m\u001b[0m\n",
      "\u001b[0;32m/g/data/v14/ds0092/software/miniconda3/envs/pangeo/lib/python3.9/site-packages/xarray/backends/scipy_.py\u001b[0m in \u001b[0;36mget_variables\u001b[0;34m(self)\u001b[0m\n\u001b[1;32m    169\u001b[0m     \u001b[0;32mdef\u001b[0m \u001b[0mget_variables\u001b[0m\u001b[0;34m(\u001b[0m\u001b[0mself\u001b[0m\u001b[0;34m)\u001b[0m\u001b[0;34m:\u001b[0m\u001b[0;34m\u001b[0m\u001b[0;34m\u001b[0m\u001b[0m\n\u001b[1;32m    170\u001b[0m         return FrozenDict(\n\u001b[0;32m--> 171\u001b[0;31m             \u001b[0;34m(\u001b[0m\u001b[0mk\u001b[0m\u001b[0;34m,\u001b[0m \u001b[0mself\u001b[0m\u001b[0;34m.\u001b[0m\u001b[0mopen_store_variable\u001b[0m\u001b[0;34m(\u001b[0m\u001b[0mk\u001b[0m\u001b[0;34m,\u001b[0m \u001b[0mv\u001b[0m\u001b[0;34m)\u001b[0m\u001b[0;34m)\u001b[0m \u001b[0;32mfor\u001b[0m \u001b[0mk\u001b[0m\u001b[0;34m,\u001b[0m \u001b[0mv\u001b[0m \u001b[0;32min\u001b[0m \u001b[0mself\u001b[0m\u001b[0;34m.\u001b[0m\u001b[0mds\u001b[0m\u001b[0;34m.\u001b[0m\u001b[0mvariables\u001b[0m\u001b[0;34m.\u001b[0m\u001b[0mitems\u001b[0m\u001b[0;34m(\u001b[0m\u001b[0;34m)\u001b[0m\u001b[0;34m\u001b[0m\u001b[0;34m\u001b[0m\u001b[0m\n\u001b[0m\u001b[1;32m    172\u001b[0m         )\n\u001b[1;32m    173\u001b[0m \u001b[0;34m\u001b[0m\u001b[0m\n",
      "\u001b[0;32m/g/data/v14/ds0092/software/miniconda3/envs/pangeo/lib/python3.9/site-packages/xarray/backends/scipy_.py\u001b[0m in \u001b[0;36mds\u001b[0;34m(self)\u001b[0m\n\u001b[1;32m    158\u001b[0m     \u001b[0;34m@\u001b[0m\u001b[0mproperty\u001b[0m\u001b[0;34m\u001b[0m\u001b[0;34m\u001b[0m\u001b[0m\n\u001b[1;32m    159\u001b[0m     \u001b[0;32mdef\u001b[0m \u001b[0mds\u001b[0m\u001b[0;34m(\u001b[0m\u001b[0mself\u001b[0m\u001b[0;34m)\u001b[0m\u001b[0;34m:\u001b[0m\u001b[0;34m\u001b[0m\u001b[0;34m\u001b[0m\u001b[0m\n\u001b[0;32m--> 160\u001b[0;31m         \u001b[0;32mreturn\u001b[0m \u001b[0mself\u001b[0m\u001b[0;34m.\u001b[0m\u001b[0m_manager\u001b[0m\u001b[0;34m.\u001b[0m\u001b[0macquire\u001b[0m\u001b[0;34m(\u001b[0m\u001b[0;34m)\u001b[0m\u001b[0;34m\u001b[0m\u001b[0;34m\u001b[0m\u001b[0m\n\u001b[0m\u001b[1;32m    161\u001b[0m \u001b[0;34m\u001b[0m\u001b[0m\n\u001b[1;32m    162\u001b[0m     \u001b[0;32mdef\u001b[0m \u001b[0mopen_store_variable\u001b[0m\u001b[0;34m(\u001b[0m\u001b[0mself\u001b[0m\u001b[0;34m,\u001b[0m \u001b[0mname\u001b[0m\u001b[0;34m,\u001b[0m \u001b[0mvar\u001b[0m\u001b[0;34m)\u001b[0m\u001b[0;34m:\u001b[0m\u001b[0;34m\u001b[0m\u001b[0;34m\u001b[0m\u001b[0m\n",
      "\u001b[0;32m/g/data/v14/ds0092/software/miniconda3/envs/pangeo/lib/python3.9/site-packages/xarray/backends/file_manager.py\u001b[0m in \u001b[0;36macquire\u001b[0;34m(self, needs_lock)\u001b[0m\n\u001b[1;32m    179\u001b[0m             \u001b[0mAn\u001b[0m \u001b[0mopen\u001b[0m \u001b[0mfile\u001b[0m \u001b[0mobject\u001b[0m\u001b[0;34m,\u001b[0m \u001b[0;32mas\u001b[0m \u001b[0mreturned\u001b[0m \u001b[0mby\u001b[0m\u001b[0;31m \u001b[0m\u001b[0;31m`\u001b[0m\u001b[0;31m`\u001b[0m\u001b[0mopener\u001b[0m\u001b[0;34m(\u001b[0m\u001b[0;34m*\u001b[0m\u001b[0margs\u001b[0m\u001b[0;34m,\u001b[0m \u001b[0;34m**\u001b[0m\u001b[0mkwargs\u001b[0m\u001b[0;34m)\u001b[0m\u001b[0;31m`\u001b[0m\u001b[0;31m`\u001b[0m\u001b[0;34m.\u001b[0m\u001b[0;34m\u001b[0m\u001b[0;34m\u001b[0m\u001b[0m\n\u001b[1;32m    180\u001b[0m         \"\"\"\n\u001b[0;32m--> 181\u001b[0;31m         \u001b[0mfile\u001b[0m\u001b[0;34m,\u001b[0m \u001b[0m_\u001b[0m \u001b[0;34m=\u001b[0m \u001b[0mself\u001b[0m\u001b[0;34m.\u001b[0m\u001b[0m_acquire_with_cache_info\u001b[0m\u001b[0;34m(\u001b[0m\u001b[0mneeds_lock\u001b[0m\u001b[0;34m)\u001b[0m\u001b[0;34m\u001b[0m\u001b[0;34m\u001b[0m\u001b[0m\n\u001b[0m\u001b[1;32m    182\u001b[0m         \u001b[0;32mreturn\u001b[0m \u001b[0mfile\u001b[0m\u001b[0;34m\u001b[0m\u001b[0;34m\u001b[0m\u001b[0m\n\u001b[1;32m    183\u001b[0m \u001b[0;34m\u001b[0m\u001b[0m\n",
      "\u001b[0;32m/g/data/v14/ds0092/software/miniconda3/envs/pangeo/lib/python3.9/site-packages/xarray/backends/file_manager.py\u001b[0m in \u001b[0;36m_acquire_with_cache_info\u001b[0;34m(self, needs_lock)\u001b[0m\n\u001b[1;32m    203\u001b[0m                     \u001b[0mkwargs\u001b[0m \u001b[0;34m=\u001b[0m \u001b[0mkwargs\u001b[0m\u001b[0;34m.\u001b[0m\u001b[0mcopy\u001b[0m\u001b[0;34m(\u001b[0m\u001b[0;34m)\u001b[0m\u001b[0;34m\u001b[0m\u001b[0;34m\u001b[0m\u001b[0m\n\u001b[1;32m    204\u001b[0m                     \u001b[0mkwargs\u001b[0m\u001b[0;34m[\u001b[0m\u001b[0;34m\"mode\"\u001b[0m\u001b[0;34m]\u001b[0m \u001b[0;34m=\u001b[0m \u001b[0mself\u001b[0m\u001b[0;34m.\u001b[0m\u001b[0m_mode\u001b[0m\u001b[0;34m\u001b[0m\u001b[0;34m\u001b[0m\u001b[0m\n\u001b[0;32m--> 205\u001b[0;31m                 \u001b[0mfile\u001b[0m \u001b[0;34m=\u001b[0m \u001b[0mself\u001b[0m\u001b[0;34m.\u001b[0m\u001b[0m_opener\u001b[0m\u001b[0;34m(\u001b[0m\u001b[0;34m*\u001b[0m\u001b[0mself\u001b[0m\u001b[0;34m.\u001b[0m\u001b[0m_args\u001b[0m\u001b[0;34m,\u001b[0m \u001b[0;34m**\u001b[0m\u001b[0mkwargs\u001b[0m\u001b[0;34m)\u001b[0m\u001b[0;34m\u001b[0m\u001b[0;34m\u001b[0m\u001b[0m\n\u001b[0m\u001b[1;32m    206\u001b[0m                 \u001b[0;32mif\u001b[0m \u001b[0mself\u001b[0m\u001b[0;34m.\u001b[0m\u001b[0m_mode\u001b[0m \u001b[0;34m==\u001b[0m \u001b[0;34m\"w\"\u001b[0m\u001b[0;34m:\u001b[0m\u001b[0;34m\u001b[0m\u001b[0;34m\u001b[0m\u001b[0m\n\u001b[1;32m    207\u001b[0m                     \u001b[0;31m# ensure file doesn't get overriden when opened again\u001b[0m\u001b[0;34m\u001b[0m\u001b[0;34m\u001b[0m\u001b[0;34m\u001b[0m\u001b[0m\n",
      "\u001b[0;32m/g/data/v14/ds0092/software/miniconda3/envs/pangeo/lib/python3.9/site-packages/xarray/backends/scipy_.py\u001b[0m in \u001b[0;36m_open_scipy_netcdf\u001b[0;34m(filename, mode, mmap, version)\u001b[0m\n\u001b[1;32m     97\u001b[0m \u001b[0;34m\u001b[0m\u001b[0m\n\u001b[1;32m     98\u001b[0m     \u001b[0;32mtry\u001b[0m\u001b[0;34m:\u001b[0m\u001b[0;34m\u001b[0m\u001b[0;34m\u001b[0m\u001b[0m\n\u001b[0;32m---> 99\u001b[0;31m         \u001b[0;32mreturn\u001b[0m \u001b[0mscipy\u001b[0m\u001b[0;34m.\u001b[0m\u001b[0mio\u001b[0m\u001b[0;34m.\u001b[0m\u001b[0mnetcdf_file\u001b[0m\u001b[0;34m(\u001b[0m\u001b[0mfilename\u001b[0m\u001b[0;34m,\u001b[0m \u001b[0mmode\u001b[0m\u001b[0;34m=\u001b[0m\u001b[0mmode\u001b[0m\u001b[0;34m,\u001b[0m \u001b[0mmmap\u001b[0m\u001b[0;34m=\u001b[0m\u001b[0mmmap\u001b[0m\u001b[0;34m,\u001b[0m \u001b[0mversion\u001b[0m\u001b[0;34m=\u001b[0m\u001b[0mversion\u001b[0m\u001b[0;34m)\u001b[0m\u001b[0;34m\u001b[0m\u001b[0;34m\u001b[0m\u001b[0m\n\u001b[0m\u001b[1;32m    100\u001b[0m     \u001b[0;32mexcept\u001b[0m \u001b[0mTypeError\u001b[0m \u001b[0;32mas\u001b[0m \u001b[0me\u001b[0m\u001b[0;34m:\u001b[0m  \u001b[0;31m# netcdf3 message is obscure in this case\u001b[0m\u001b[0;34m\u001b[0m\u001b[0;34m\u001b[0m\u001b[0m\n\u001b[1;32m    101\u001b[0m         \u001b[0merrmsg\u001b[0m \u001b[0;34m=\u001b[0m \u001b[0me\u001b[0m\u001b[0;34m.\u001b[0m\u001b[0margs\u001b[0m\u001b[0;34m[\u001b[0m\u001b[0;36m0\u001b[0m\u001b[0;34m]\u001b[0m\u001b[0;34m\u001b[0m\u001b[0;34m\u001b[0m\u001b[0m\n",
      "\u001b[0;32m/g/data/v14/ds0092/software/miniconda3/envs/pangeo/lib/python3.9/site-packages/scipy/io/netcdf.py\u001b[0m in \u001b[0;36m__init__\u001b[0;34m(self, filename, mode, mmap, version, maskandscale)\u001b[0m\n\u001b[1;32m    247\u001b[0m             \u001b[0mself\u001b[0m\u001b[0;34m.\u001b[0m\u001b[0mfilename\u001b[0m \u001b[0;34m=\u001b[0m \u001b[0mfilename\u001b[0m\u001b[0;34m\u001b[0m\u001b[0;34m\u001b[0m\u001b[0m\n\u001b[1;32m    248\u001b[0m             \u001b[0momode\u001b[0m \u001b[0;34m=\u001b[0m \u001b[0;34m'r+'\u001b[0m \u001b[0;32mif\u001b[0m \u001b[0mmode\u001b[0m \u001b[0;34m==\u001b[0m \u001b[0;34m'a'\u001b[0m \u001b[0;32melse\u001b[0m \u001b[0mmode\u001b[0m\u001b[0;34m\u001b[0m\u001b[0;34m\u001b[0m\u001b[0m\n\u001b[0;32m--> 249\u001b[0;31m             \u001b[0mself\u001b[0m\u001b[0;34m.\u001b[0m\u001b[0mfp\u001b[0m \u001b[0;34m=\u001b[0m \u001b[0mopen\u001b[0m\u001b[0;34m(\u001b[0m\u001b[0mself\u001b[0m\u001b[0;34m.\u001b[0m\u001b[0mfilename\u001b[0m\u001b[0;34m,\u001b[0m \u001b[0;34m'%sb'\u001b[0m \u001b[0;34m%\u001b[0m \u001b[0momode\u001b[0m\u001b[0;34m)\u001b[0m\u001b[0;34m\u001b[0m\u001b[0;34m\u001b[0m\u001b[0m\n\u001b[0m\u001b[1;32m    250\u001b[0m             \u001b[0;32mif\u001b[0m \u001b[0mmmap\u001b[0m \u001b[0;32mis\u001b[0m \u001b[0;32mNone\u001b[0m\u001b[0;34m:\u001b[0m\u001b[0;34m\u001b[0m\u001b[0;34m\u001b[0m\u001b[0m\n\u001b[1;32m    251\u001b[0m                 \u001b[0;31m# Mmapped files on PyPy cannot be usually closed\u001b[0m\u001b[0;34m\u001b[0m\u001b[0;34m\u001b[0m\u001b[0;34m\u001b[0m\u001b[0m\n",
      "\u001b[0;31mFileNotFoundError\u001b[0m: [Errno 2] No such file or directory: '/g/data/v19/mtc599/ao_am2/aug18a/INPUT/aerosol.climatology.nc'"
     ]
    }
   ],
   "source": [
    "path = '/g/data/v19/mtc599/ao_am2/aug18a/INPUT/'\n",
    "\n",
    "f = xr.open_dataset(f'{path}aerosol.climatology.nc')"
   ]
  },
  {
   "cell_type": "code",
   "execution_count": null,
   "id": "a4ddd28f-f915-4f55-bc3d-fbc8aceab8ad",
   "metadata": {},
   "outputs": [],
   "source": []
  }
 ],
 "metadata": {
  "kernelspec": {
   "display_name": "Python 3",
   "language": "python",
   "name": "python3"
  },
  "language_info": {
   "codemirror_mode": {
    "name": "ipython",
    "version": 3
   },
   "file_extension": ".py",
   "mimetype": "text/x-python",
   "name": "python",
   "nbconvert_exporter": "python",
   "pygments_lexer": "ipython3",
   "version": "3.9.4"
  }
 },
 "nbformat": 4,
 "nbformat_minor": 5
}
