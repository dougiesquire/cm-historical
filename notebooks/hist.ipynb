{
 "cells": [
  {
   "cell_type": "markdown",
   "id": "d2d7f2d4-11a2-4d05-be5b-a060f7c923d3",
   "metadata": {},
   "source": [
    "# Checking in on how the 96 member historical run is tracking"
   ]
  },
  {
   "cell_type": "code",
   "execution_count": 1,
   "id": "770a9893-aa74-420f-b7a4-8c8c63499dae",
   "metadata": {},
   "outputs": [],
   "source": [
    "import glob\n",
    "import numpy as np\n",
    "import xarray as xr\n",
    "import matplotlib.pyplot as plt\n",
    "\n",
    "import warnings\n",
    "warnings.filterwarnings(\"ignore\")"
   ]
  },
  {
   "cell_type": "code",
   "execution_count": 2,
   "id": "184d1823-2213-49d3-8a19-f6f982c37abe",
   "metadata": {},
   "outputs": [],
   "source": [
    "import matplotlib\n",
    "fs = 12\n",
    "font = {'weight' : 'normal',\n",
    "        'size'   : fs}\n",
    "matplotlib.rc('font', **font)"
   ]
  },
  {
   "cell_type": "code",
   "execution_count": 3,
   "id": "105e5ebe-c01d-4277-be81-a080ce078ccd",
   "metadata": {},
   "outputs": [],
   "source": [
    "path = '/g/data/xv83/ds0092/CAFE/historical/WIP/c5-d60-pX-hist-19601101-96mem'\n",
    "ensembles = 96"
   ]
  },
  {
   "cell_type": "markdown",
   "id": "70a645c3-a5e9-4bf8-8f48-94f3ff6fafeb",
   "metadata": {},
   "source": [
    "# Ocean scalar"
   ]
  },
  {
   "cell_type": "code",
   "execution_count": 4,
   "id": "1ac2ab03-7988-4fa1-8808-6e6eb63145dc",
   "metadata": {},
   "outputs": [],
   "source": [
    "def reduced_dt_sections(mom_outs):\n",
    "    mom_outs = ['.0_months_done']+[mom_out for mom_out in mom_outs if '_months_done' in mom_out]\n",
    "    sorted_mom_outs = sorted(mom_outs, key=lambda x: int(x.rpartition('_months_done')[0].split('.')[-1]))\n",
    "    reduced = []\n",
    "    for i in range(len(sorted_mom_outs)):\n",
    "        if 'o900' in sorted_mom_outs[i]:\n",
    "            i_start = int(sorted_mom_outs[i-1].rpartition('_months_done')[0].split('.')[-1])\n",
    "            i_end = int(sorted_mom_outs[i].rpartition('_months_done')[0].split('.')[-1])\n",
    "            reduced.append((i_start,i_end))\n",
    "    return reduced"
   ]
  },
  {
   "cell_type": "code",
   "execution_count": 6,
   "id": "158787c1-90c2-405d-9d46-2e75a85fdfeb",
   "metadata": {},
   "outputs": [],
   "source": [
    "variable = 'temp_total'\n",
    "being_rerun = [] #[12, 32, 68]\n",
    "\n",
    "ds = []\n",
    "for mem in range(1, ensembles+1):\n",
    "    files = sorted(glob.glob(f'{path}/mem{str(mem).zfill(3)}/ocean_scalar*.nc'))[:-1]\n",
    "    if mem in being_rerun:\n",
    "        files = files[:-4]\n",
    "    ds.append(xr.open_mfdataset(files)[variable].assign_coords({'ensemble': mem}).compute())\n",
    "ds = xr.concat(ds, dim='ensemble')"
   ]
  },
  {
   "cell_type": "code",
   "execution_count": 7,
   "id": "a3beb3f5-6e3e-4523-a7cd-85732d8d4759",
   "metadata": {},
   "outputs": [],
   "source": [
    "# clim_period = slice('1980','1999')\n",
    "# clim = ds.sel(time=clim_period).mean('ensemble').groupby('time.month').mean('time')\n",
    "\n",
    "# ds_anom = ds.groupby('time.month') - clim\n",
    "ds_anom = ds"
   ]
  },
  {
   "cell_type": "code",
   "execution_count": null,
   "id": "49cfc899-fe3b-4b17-a84e-3b625c868caa",
   "metadata": {},
   "outputs": [],
   "source": [
    "from textwrap import wrap\n",
    "\n",
    "fig, (ax0, ax1, ax2, ax3) = plt.subplots(\n",
    "    4, 1, gridspec_kw={'height_ratios': [3, 3, 3, 1]}, figsize=(15,13))\n",
    "\n",
    "# ====================================================================\n",
    "plot_ensembles = ds_anom.ensemble.values\n",
    "for idx, e in enumerate(plot_ensembles):\n",
    "    ax0.plot([np.datetime64(t.strftime()) for t in ds_anom.time.values], \n",
    "         ds_anom.sel(ensemble=e), \n",
    "         label='__nolabel__', \n",
    "         linewidth=1.5, alpha=0.5)\n",
    "\n",
    "ax0.plot([np.nan, np.nan], [np.nan, np.nan], \n",
    "         color=[0.8,0.8,0.8], label='historical (individual member)')\n",
    "\n",
    "ax0.plot([np.datetime64(t.strftime()) for t in ds_anom.time.values], \n",
    "         ds_anom.mean('ensemble'), \n",
    "         label='historical (ensemble mean)', color='k', linewidth=2)\n",
    "\n",
    "ax0.legend(ncol=1, loc='upper left')\n",
    "long_name = \"\\n\".join(wrap(ds_anom.attrs[\"long_name\"], 40))\n",
    "units = ds_anom.attrs[\"units\"]\n",
    "ax0.set_ylabel(f'{long_name}\\n[{units}]');\n",
    "ax0.grid()\n",
    "xticks = [np.datetime64(t.strftime()) for t in ds_anom.time.values[2+12::24]]\n",
    "ax0.set_xticks(xticks)\n",
    "ax0.set_xticklabels([])\n",
    "xlims = ax0.get_xlim()\n",
    "\n",
    "# ====================================================================\n",
    "ctrl = xr.open_dataset('c5-d60-pX-ctrl-19601101-temp_total.nc')['temp_total']\n",
    "\n",
    "plot_ensembles = list(range(1,7))+list(range(8,10))+list(range(11,23))\n",
    "for idx, e in enumerate(plot_ensembles):\n",
    "    ax1.plot([np.datetime64(t.strftime()) for t in ctrl.time.values], \n",
    "         ctrl.sel(ensemble=e), \n",
    "         label='__nolabel__', \n",
    "         linewidth=1.5, alpha=0.5)\n",
    "ax1.plot([np.nan, np.nan], [np.nan, np.nan], \n",
    "         color=[0.8,0.8,0.8], label='control (individual member)')\n",
    "    \n",
    "ax1.plot([np.datetime64(t.strftime()) for t in ctrl.time.values], \n",
    "         ctrl.mean('ensemble'), \n",
    "         label='control (ensemble mean)', color='k', linewidth=2)\n",
    "    \n",
    "ax1.legend(ncol=1, loc='upper left')\n",
    "ax1.set_ylabel(f'{long_name}\\n[{units}]');\n",
    "ax1.grid()\n",
    "ax1.set_xticks(xticks)\n",
    "ax1.set_xticklabels([])\n",
    "ax1.set_xlim(xlims);\n",
    "\n",
    "# ====================================================================\n",
    "plot_ensembles = ds_anom.ensemble.values\n",
    "for idx, e in enumerate(plot_ensembles):\n",
    "    ax2.plot([np.datetime64(t.strftime()) for t in ds_anom.time.values], \n",
    "         ds_anom.sel(ensemble=e) - ctrl.mean('ensemble'), \n",
    "         label='__nolabel__', \n",
    "         linewidth=1.5, alpha=0.5)\n",
    "    \n",
    "for idx, e in enumerate(plot_ensembles):\n",
    "    mom_outs = glob.glob(f'{path}/mem{str(e).zfill(3)}/mom*')\n",
    "    sections = reduced_dt_sections(mom_outs)\n",
    "    if sections != []:\n",
    "        for section in sections:\n",
    "            ax2.plot([np.datetime64(t.strftime()) for t in ds_anom.time.values[section[0]:section[1]]], \n",
    "                     ds_anom.sel(ensemble=e)[section[0]:section[1]] - ctrl.mean('ensemble'), \n",
    "                     color='k', linestyle='--', linewidth=1.5,\n",
    "                     label='__nolabel__')\n",
    "ax2.plot([np.nan, np.nan], [np.nan, np.nan], \n",
    "         color=[0.8,0.8,0.8], label='historical - <control> (individual member) ')\n",
    "\n",
    "ax2.plot([np.datetime64(t.strftime()) for t in ds_anom.time.values], \n",
    "         ds_anom.mean('ensemble') - ctrl.mean('ensemble'), \n",
    "         label='historical - <control> (ensemble mean)', color='k', linewidth=2)\n",
    "\n",
    "ax2.plot([np.nan, np.nan], [np.nan, np.nan], \n",
    "         color='k', linestyle='--', linewidth=2, label='sections run with reduced time step')\n",
    "\n",
    "ax2.legend(ncol=1, loc='upper left')\n",
    "ax2.set_ylabel(f'{long_name}\\n[{units}]');\n",
    "ax2.grid()\n",
    "ax2.set_xticks(xticks)\n",
    "ax2.set_xticklabels([])\n",
    "ax2.set_xlim(xlims);\n",
    "\n",
    "# ====================================================================\n",
    "f = xr.open_dataset(\n",
    "    f'/g/data/xv83/ds0092/CAFE/historical/WIP/c5-d60-pX-hist-19601101-96mem/mem001/INPUT/extsw_data.nc')\n",
    "\n",
    "period = slice(str(ds_anom.time[0].dt.year.values), \n",
    "               str(ds_anom.time[-1].dt.year.values))\n",
    "lev = 60\n",
    "\n",
    "lat_mean = f['extsw_b02'].sel(time=period).mean('lat')\n",
    "ax3.plot([np.datetime64(t.strftime()) for t in lat_mean.time.values],\n",
    "        lat_mean.sel(pfull=lev, method='nearest'), color='k', linewidth=2)\n",
    "ax3.set_xticks(xticks)\n",
    "ax3.set_xticklabels(xticks, rotation=40, ha='right');\n",
    "ax3.set_ylabel('extsw_b02');\n",
    "ax3.grid()\n",
    "ax3.set_xlim(xlims);"
   ]
  },
  {
   "cell_type": "code",
   "execution_count": null,
   "id": "75947e43-164c-4615-ac59-e0f3dcd62c1e",
   "metadata": {},
   "outputs": [],
   "source": []
  }
 ],
 "metadata": {
  "kernelspec": {
   "display_name": "Python 3",
   "language": "python",
   "name": "python3"
  },
  "language_info": {
   "codemirror_mode": {
    "name": "ipython",
    "version": 3
   },
   "file_extension": ".py",
   "mimetype": "text/x-python",
   "name": "python",
   "nbconvert_exporter": "python",
   "pygments_lexer": "ipython3",
   "version": "3.9.4"
  }
 },
 "nbformat": 4,
 "nbformat_minor": 5
}
